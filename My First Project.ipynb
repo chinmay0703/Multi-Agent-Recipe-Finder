{
 "cells": [
  {
   "cell_type": "markdown",
   "metadata": {},
   "source": [
    "# L5: Automate Recipie Finder"
   ]
  },
  {
   "cell_type": "markdown",
   "metadata": {},
   "source": [
    "The libraries are already installed in the classroom. If you're running this notebook on your own machine, you can install the following:\n",
    "```Python\n",
    "!pip install crewai==0.28.8 crewai_tools==0.1.6 langchain_community==0.0.29\n",
    "```"
   ]
  },
  {
   "cell_type": "code",
   "execution_count": 1,
   "metadata": {
    "height": 64
   },
   "outputs": [],
   "source": [
    "# Warning control\n",
    "import warnings\n",
    "warnings.filterwarnings('ignore')"
   ]
  },
  {
   "cell_type": "markdown",
   "metadata": {},
   "source": [
    "- Import libraries, APIs and LLM"
   ]
  },
  {
   "cell_type": "code",
   "execution_count": 14,
   "metadata": {
    "height": 30
   },
   "outputs": [],
   "source": [
    "from crewai import Agent, Crew, Task"
   ]
  },
  {
   "cell_type": "code",
   "execution_count": 22,
   "metadata": {
    "height": 115
   },
   "outputs": [],
   "source": [
    "import os\n",
    "from utils import get_openai_api_key,get_serper_api_key\n",
    "\n",
    "openai_api_key = get_openai_api_key()\n",
    "os.environ[\"OPENAI_MODEL_NAME\"] = 'gpt-3.5-turbo'\n",
    "os.environ[\"SERPER_API_KEY\"] = get_serper_api_key()"
   ]
  },
  {
   "cell_type": "code",
   "execution_count": 36,
   "metadata": {
    "height": 98
   },
   "outputs": [],
   "source": [
    "from crewai_tools import ScrapeWebsiteTool, SerperDevTool\n",
    "\n",
    "# Initialize the tools\n",
    "search_tool = SerperDevTool()\n",
    "scrape_tool = ScrapeWebsiteTool()"
   ]
  },
  {
   "cell_type": "code",
   "execution_count": 37,
   "metadata": {
    "height": 284
   },
   "outputs": [],
   "source": [
    "recipe_finder = Agent(\n",
    "    role='AI Recipe Finder',\n",
    "    goal=(\n",
    "        'Find the best recipes based on the given ingredients. Ensure that the recipe does not contain more than '\n",
    "        '1 or 2 extra ingredients compared to the provided list. The goal is to suggest recipes with minimal additional ingredients.'\n",
    "    ),\n",
    "    backstory=(\n",
    "        \"An expert AI chef who finds the best recipes using online resources. The AI should prioritize recipes with \"\n",
    "        \"only 1 or 2 extra ingredients to avoid overwhelming the provided ingredients.\"\n",
    "    ),\n",
    "    tools=[search_tool],  # Attach SerperDevTool for web search to find recipes\n",
    "    verbose=True,\n",
    "    memory=True\n",
    ")\n"
   ]
  },
  {
   "cell_type": "code",
   "execution_count": 38,
   "metadata": {
    "height": 216
   },
   "outputs": [],
   "source": [
    "ingredient_checker = Agent(\n",
    "    role='Quality Assurance Head',\n",
    "    goal='Identify extra ingredients used in a recipe that were not provided in the ingredients list.',\n",
    "    backstory=(\n",
    "        \"You are an expert AI chef specializing in quality assurance for recipes. \"\n",
    "        \"Your job is to compare the ingredients used in a recipe against the provided ingredient list, \"\n",
    "        \"identify any extra ingredients, and check their availability and price on Indian grocery store apps.\"\n",
    "    ),\n",
    "    tools=[search_tool],  # Attach SerperDevTool for web search\n",
    "    verbose=True\n",
    ")"
   ]
  },
  {
   "cell_type": "code",
   "execution_count": 39,
   "metadata": {
    "height": 284
   },
   "outputs": [],
   "source": [
    "recipe_finder_task = Task(\n",
    "    description=(\n",
    "        \"Perform a web search to find the best possible recipe using the given ingredients: {ingredients}. \"\n",
    "        \"Extract the most relevant and easy-to-follow recipe and provide:\\n\\n\"\n",
    "        \"- The recipe name\\n\"\n",
    "        \"- A short description\\n\"\n",
    "        \"- Step-by-step cooking instructions\\n\"\n",
    "        \"- Estimated preparation & cooking time\\n\"\n",
    "        \"- Any additional useful details\\n\\n\"\n",
    "        \"Make sure the recipe is simple and practical for everyday cooking.\"\n",
    "    ),\n",
    "    expected_output=\"A well-structured recipe including name, description, steps, and cooking time.\",\n",
    "    tools=[search_tool],  # Attach SerperDevTool to perform search queries\n",
    "    agent=recipe_finder\n",
    ")"
   ]
  },
  {
   "cell_type": "code",
   "execution_count": 40,
   "metadata": {
    "height": 420
   },
   "outputs": [],
   "source": [
    "ingredient_check_task = Task(\n",
    "    description=(\n",
    "        \"You are given the following **provided ingredients**: {ingredients}.\\n\"\n",
    "        \"You are also given a **recipe** that contains the following ingredients: {ingredients}.\\n\\n\"\n",
    "        \"**Your task:**\\n\"\n",
    "        \"1. Compare the provided ingredients with the recipe to identify any extra ingredients not in the provided list.\\n\"\n",
    "        \"2. Provide a detailed explanation of the recipe, including key steps, ingredients, and any notable techniques.\\n\"\n",
    "        \"3. List any extra ingredients found in the recipe that are not present in the provided ingredient list.\\n\\n\"\n",
    "        \"**Your final output MUST include:**\\n\"\n",
    "        \"- Explanation of the recipe and its key steps.\\n\"\n",
    "        \"- List of extra ingredients found in the recipe.\\n\"\n",
    "        \"- A short summary of whether the extra ingredients significantly impact the dish.\"\n",
    "    ),\n",
    "    expected_output=(\n",
    "        \"A structured report listing:\\n\"\n",
    "        \"- Explanation of the recipe\\n\"\n",
    "        \"- List of extra ingredients used in the recipe\\n\"\n",
    "        \"- Short summary on the impact of extra ingredients on the dish\"\n",
    "    ),\n",
    "    tools=[search_tool],  # Attach SerperDevTool for any optional price checks or additional tools if needed in the future\n",
    "    agent=ingredient_checker\n",
    ")\n"
   ]
  },
  {
   "cell_type": "code",
   "execution_count": 41,
   "metadata": {
    "height": 149
   },
   "outputs": [
    {
     "name": "stderr",
     "output_type": "stream",
     "text": [
      "2025-02-03 18:47:57,447 - 140343251458944 - __init__.py-__init__:518 - WARNING: Overriding of current TracerProvider is not allowed\n"
     ]
    },
    {
     "name": "stdout",
     "output_type": "stream",
     "text": [
      "\n",
      "\n",
      "\u001b[1m> Entering new CrewAgentExecutor chain...\u001b[0m\n",
      "\u001b[32;1m\u001b[1;3mI need to search the internet to find a recipe that includes potatoes, chili, and onion with minimal additional ingredients.\n",
      "\n",
      "Action: Search the internet\n",
      "Action Input: {\"search_query\": \"potato chili onion recipe minimal ingredients\"}\u001b[0m\u001b[95m \n",
      "\n",
      "\n",
      "Search results: Title: Chili Recipe - Allrecipes\n",
      "Link: https://www.allrecipes.com/recipe/15386/chili-iii/\n",
      "Snippet: Ingredients ; 1 pound ground beef ; 1 onion, chopped ; 4 potatoes, cubed ; 2 cups water, or as needed ; 2 cups tomato puree.\n",
      "---\n",
      "Title: Chili with Potatoes - Recipe for Perfection\n",
      "Link: https://recipeforperfection.com/chili-with-potatoes/\n",
      "Snippet: Add the beans, tomatoes, chili powder, sugar, pepper, oregano, and cooked ground beef to a large pot. Stir, then bring to a gentle boil over ...\n",
      "---\n",
      "Title: Garlic Chili Potatoes - Piping Pot Curry\n",
      "Link: https://pipingpotcurry.com/garlic-chili-potatoes/\n",
      "Snippet: Flavorful and easy Garlic Chili Potatoes, made with steamed potatoes, garlic, chili sauce and honey, sprinkled with green onions and sesame seeds.\n",
      "---\n",
      "Title: Delicious 5 min, chili crisp potatoes. 3 ingredients. - Reddit\n",
      "Link: https://www.reddit.com/r/easyrecipes/comments/ric2sj/delicious_5_min_chili_crisp_potatoes_3_ingredients/\n",
      "Snippet: Alternatives to chili crisp: Grated parmesan and black pepper is a good add. You could also do a bacon bits, cheddar, sour cream and green onion ...\n",
      "---\n",
      "Title: Crispy Chili Garlic Roast Potatoes - Kula's Kitchen\n",
      "Link: https://www.kulaskitchen.com/all-recipes/crispy-chili-garlic-roast-potatoes\n",
      "Snippet: Ingredients · 6 medium yellow potatoes, chopped into 1-inch cubes · ⅓ cup olive oil · ½ tsp garlic powder · ½ tsp onion powder · ½ tsp paprika · Lots ...\n",
      "---\n",
      "Title: Potato Chili - Red Gold Tomatoes\n",
      "Link: https://www.redgoldtomatoes.com/redgold/recipes/detail/potato-chili\n",
      "Snippet: In a large stock pot or Dutch oven sauté potatoes, onion and green bell pepper in oil for 5 minutes. Add garlic and chili powder and cook an additional minute.\n",
      "---\n",
      "Title: How to make a chili potato? Can someone give a full recipe - Quora\n",
      "Link: https://www.quora.com/How-do-I-make-a-chili-potato-Can-someone-give-a-full-recipe\n",
      "Snippet: Ingredients. Potatoes. Capsicum. Green chilli. Onion. Seasame seeds. Corn flour. Oil. Recipe. Cut potatoes into long slices . Put in hot water ...\n",
      "---\n",
      "Title: Chili & Onion Roasted Potatoes - McCormick\n",
      "Link: https://www.mccormick.com/recipes/salads-sides/chili-and-onion-roasted-potatoes\n",
      "Snippet: Ingredients · 2 pounds baking potatoes · 2 tablespoons olive oil · 1 teaspoon McCormick® Chili Powder · 1 teaspoon McCormick® Onion Salt ...\n",
      "---\n",
      "Title: Oil-free Roasted Potatoes and Onion with Cumin, Garlic and Chili ...\n",
      "Link: https://veryveganish.com/oil-free-roasted-potatoes-and-onion-with-cumin-garlic-and-chili-powder/\n",
      "Snippet: ▢ 2.5 pounds russet potato diced · ▢ 1 yellow onion diced · ▢ 1 teaspoon chili powder · ▢ 1 teaspoon ground cumin · ▢ 1 teaspoon granulated garlic\n",
      "---\n",
      "Title: Easy, Spicy Roasted Potatoes Recipe - Allrecipes\n",
      "Link: https://www.allrecipes.com/recipe/88758/easy-spicy-roasted-potatoes/\n",
      "Snippet: 5 medium red potatoes, diced with peel · 1 medium onion, chopped · 1 tablespoon garlic powder · 1 tablespoon kosher salt · 2 teaspoons chili powder.\n",
      "---\n",
      "\n",
      "\u001b[00m\n",
      "\u001b[32;1m\u001b[1;3mFinal Answer: \n",
      "Recipe Name: Oil-free Roasted Potatoes and Onion with Cumin, Garlic, and Chili Powder\n",
      "Description: A delicious and healthy recipe for oil-free roasted potatoes and onions seasoned with cumin, garlic, and chili powder. Perfect for a simple and flavorful side dish.\n",
      "Ingredients:\n",
      "- 2.5 pounds russet potatoes, diced\n",
      "- 1 yellow onion, diced\n",
      "- 1 teaspoon chili powder\n",
      "- 1 teaspoon ground cumin\n",
      "- 1 teaspoon granulated garlic\n",
      "\n",
      "Instructions:\n",
      "1. Preheat the oven to 425°F (220°C).\n",
      "2. In a large bowl, mix the diced potatoes, diced onion, chili powder, ground cumin, and granulated garlic until the potatoes and onions are evenly coated with the seasonings.\n",
      "3. Spread the seasoned potatoes and onions in a single layer on a baking sheet lined with parchment paper.\n",
      "4. Roast in the preheated oven for about 30-35 minutes, or until the potatoes are golden brown and crispy on the outside, stirring halfway through the cooking time.\n",
      "5. Remove from the oven and serve hot as a delicious side dish.\n",
      "\n",
      "Estimated Preparation & Cooking Time: 45 minutes\n",
      "\n",
      "Additional Details: This recipe is vegan, oil-free, and packed with flavor from the cumin, garlic, and chili powder. Enjoy these roasted potatoes and onions as a tasty and healthy addition to any meal.\u001b[0m\n",
      "\n",
      "\u001b[1m> Finished chain.\u001b[0m\n",
      "\n",
      "\n",
      "\u001b[1m> Entering new CrewAgentExecutor chain...\u001b[0m\n",
      "\u001b[32;1m\u001b[1;3mI need to compare the provided ingredients with the recipe to identify any extra ingredients not in the provided list. I should also provide a detailed explanation of the recipe, including key steps, ingredients, and any notable techniques.\n",
      "\n",
      "Action: Search the internet\n",
      "Action Input: {\"search_query\": \"Oil-free Roasted Potatoes and Onion with Cumin, Garlic, and Chili Powder recipe\"}\u001b[0m\u001b[95m \n",
      "\n",
      "\n",
      "Search results: Title: Oil-free Roasted Potatoes and Onion with Cumin, Garlic and Chili ...\n",
      "Link: https://veryveganish.com/oil-free-roasted-potatoes-and-onion-with-cumin-garlic-and-chili-powder/\n",
      "Snippet: These dry roasted diced potatoes and onion with cumin, garlic and chili powder are oil-free, vegan and low in calories.\n",
      "---\n",
      "Title: Oil-free Roasted Potatoes and Onion with Cumin, Garlic ... - Pinterest\n",
      "Link: https://www.pinterest.com/pin/311029918038356207/\n",
      "Snippet: Fluffy and full of flavor, these dry roasted diced potatoes and onion with cumin, garlic and chili powder are oil-free, vegan and low in ...\n",
      "---\n",
      "Title: Very Veganish - Oil-free Roasted Potatoes and Onion with Cumin ...\n",
      "Link: https://m.facebook.com/VeryVeganish/photos/oil-free-roasted-potatoes-and-onion-with-cumin-garlic-and-chili-powder-comment-r/1072314901575808/\n",
      "Snippet: Oil-free Roasted Potatoes and Onion with Cumin, Garlic and Chili Powder - Comment “RECIPE” and I'll message you the recipe so you can save it.\n",
      "---\n",
      "Title: Taco Spiced Roasted Potatoes (Oil Free!) - The Vegan 8\n",
      "Link: https://thevegan8.com/taco-spiced-roasted-potatoes-oil-free/\n",
      "Snippet: INGREDIENTS NEEDED · Red or yellow skinned potatoes · Chili powder · Ground cumin · Chili powder · Garlic powder · Onion powder · Dried oregano · Coconut sugar ...\n",
      "---\n",
      "Title: FULL RECIPE: https://veryveganish.com/oil-free-roasted ... - Facebook\n",
      "Link: https://m.facebook.com/story.php?story_fbid=1017790567028242&id=100063919231504\n",
      "Snippet: FULL RECIPE: https://veryveganish.com/oil-free-roasted-potatoes-and-onion-with-cumin-garlic-and-chili-powder/\n",
      "---\n",
      "Title: Easy Oil-Free Oven Roasted Potatoes - Three Little Chickpeas\n",
      "Link: https://www.threelittlechickpeas.com/healthy-oven-roasted-potatoes/\n",
      "Snippet: These oil-free oven-roasted potatoes are incredibly easy to prepare and are perfect as a side dish to almost any meal.\n",
      "---\n",
      "Title: Oil-Free Potato Wedges (air fryer or baked) - Very Veganish\n",
      "Link: https://veryveganish.com/oil-free-roasted-potato-wedges/\n",
      "Snippet: The perfect side, these quick, simple and easy potato wedges are oil-free and ready in under 30 minutes baked in the oven.\n",
      "---\n",
      "Title: Perfectly Seasoned Roasted Potatoes. - The Pretty Bee\n",
      "Link: https://theprettybee.com/perfectly-seasoned-roasted-potatoes/comment-page-2/\n",
      "Snippet: – A blend of spices – paprika, garlic powder, onion powder, cumin, chili powder, salt, and pepper – make these roasted potatoes extra delicious.\n",
      "---\n",
      "Title: Chili Roasted Potatoes - Budget Bytes\n",
      "Link: https://www.budgetbytes.com/chili-roasted-potatoes/\n",
      "Snippet: Place the cubed potatoes in a large bowl and add the olive oil plus all of the spices (chili powder, cumin, cayenne, garlic powder, onion powder ...\n",
      "---\n",
      "Title: Air Fryer Diced Potatoes [Oil-Free] - This Healthy Kitchen\n",
      "Link: https://thishealthykitchen.com/air-fryer-diced-potatoes/\n",
      "Snippet: Chili seasoning: Use ½ teaspoon of chili powder and ¼ teaspoon each of cumin, garlic powder, paprika (or smoked paprika), onion powder, salt, ...\n",
      "---\n",
      "\n",
      "\u001b[00m\n",
      "\u001b[32;1m\u001b[1;3mFinal Answer:\n",
      "\n",
      "**Recipe Name:** Oil-free Roasted Potatoes and Onion with Cumin, Garlic, and Chili Powder\n",
      "\n",
      "**Description:** A delicious and healthy recipe for oil-free roasted potatoes and onions seasoned with cumin, garlic, and chili powder. Perfect for a simple and flavorful side dish.\n",
      "\n",
      "**Ingredients:**\n",
      "- 2.5 pounds russet potatoes, diced\n",
      "- 1 yellow onion, diced\n",
      "- 1 teaspoon chili powder\n",
      "- 1 teaspoon ground cumin\n",
      "- 1 teaspoon granulated garlic\n",
      "\n",
      "**Instructions:**\n",
      "1. Preheat the oven to 425°F (220°C).\n",
      "2. In a large bowl, mix the diced potatoes, diced onion, chili powder, ground cumin, and granulated garlic until the potatoes and onions are evenly coated with the seasonings.\n",
      "3. Spread the seasoned potatoes and onions in a single layer on a baking sheet lined with parchment paper.\n",
      "4. Roast in the preheated oven for about 30-35 minutes, or until the potatoes are golden brown and crispy on the outside, stirring halfway through the cooking time.\n",
      "5. Remove from the oven and serve hot as a delicious side dish.\n",
      "\n",
      "**Additional Details:** This recipe is vegan, oil-free, and packed with flavor from the cumin, garlic, and chili powder. Enjoy these roasted potatoes and onions as a tasty and healthy addition to any meal.\n",
      "\n",
      "**Extra Ingredients:**\n",
      "- No extra ingredients found in the recipe that are not present in the provided ingredient list.\n",
      "\n",
      "**Summary:** The recipe for Oil-free Roasted Potatoes and Onion with Cumin, Garlic, and Chili Powder does not include any extra ingredients beyond the provided ones. The dish remains consistent with the listed ingredients, ensuring a flavorful and healthy side dish.\u001b[0m\n",
      "\n",
      "\u001b[1m> Finished chain.\u001b[0m\n",
      "**Recipe Name:** Oil-free Roasted Potatoes and Onion with Cumin, Garlic, and Chili Powder\n",
      "\n",
      "**Description:** A delicious and healthy recipe for oil-free roasted potatoes and onions seasoned with cumin, garlic, and chili powder. Perfect for a simple and flavorful side dish.\n",
      "\n",
      "**Ingredients:**\n",
      "- 2.5 pounds russet potatoes, diced\n",
      "- 1 yellow onion, diced\n",
      "- 1 teaspoon chili powder\n",
      "- 1 teaspoon ground cumin\n",
      "- 1 teaspoon granulated garlic\n",
      "\n",
      "**Instructions:**\n",
      "1. Preheat the oven to 425°F (220°C).\n",
      "2. In a large bowl, mix the diced potatoes, diced onion, chili powder, ground cumin, and granulated garlic until the potatoes and onions are evenly coated with the seasonings.\n",
      "3. Spread the seasoned potatoes and onions in a single layer on a baking sheet lined with parchment paper.\n",
      "4. Roast in the preheated oven for about 30-35 minutes, or until the potatoes are golden brown and crispy on the outside, stirring halfway through the cooking time.\n",
      "5. Remove from the oven and serve hot as a delicious side dish.\n",
      "\n",
      "**Additional Details:** This recipe is vegan, oil-free, and packed with flavor from the cumin, garlic, and chili powder. Enjoy these roasted potatoes and onions as a tasty and healthy addition to any meal.\n",
      "\n",
      "**Extra Ingredients:**\n",
      "- No extra ingredients found in the recipe that are not present in the provided ingredient list.\n",
      "\n",
      "**Summary:** The recipe for Oil-free Roasted Potatoes and Onion with Cumin, Garlic, and Chili Powder does not include any extra ingredients beyond the provided ones. The dish remains consistent with the listed ingredients, ensuring a flavorful and healthy side dish.\n"
     ]
    }
   ],
   "source": [
    "crew = Crew(\n",
    "    agents=[recipe_finder,ingredient_checker],\n",
    "    tasks=[recipe_finder_task,ingredient_check_task]\n",
    ")\n",
    "\n",
    "# Run the Crew with Sample Input\n",
    "result = crew.kickoff(inputs={'ingredients': 'potato, 2 chili,onion'})\n",
    "print(result)"
   ]
  }
 ],
 "metadata": {
  "kernelspec": {
   "display_name": "Python 3 (ipykernel)",
   "language": "python",
   "name": "python3"
  },
  "language_info": {
   "codemirror_mode": {
    "name": "ipython",
    "version": 3
   },
   "file_extension": ".py",
   "mimetype": "text/x-python",
   "name": "python",
   "nbconvert_exporter": "python",
   "pygments_lexer": "ipython3",
   "version": "3.11.9"
  }
 },
 "nbformat": 4,
 "nbformat_minor": 4
}
